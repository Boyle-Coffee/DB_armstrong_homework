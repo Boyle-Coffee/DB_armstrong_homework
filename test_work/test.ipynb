{
 "cells": [
  {
   "cell_type": "code",
   "execution_count": 24,
   "metadata": {
    "ExecuteTime": {
     "end_time": "2020-11-15T04:42:32.139345Z",
     "start_time": "2020-11-15T04:42:32.128479Z"
    }
   },
   "outputs": [],
   "source": [
    "import requests\n",
    "import os\n",
    "import json\n",
    "from pprint import pprint"
   ]
  },
  {
   "cell_type": "code",
   "execution_count": 2,
   "metadata": {
    "ExecuteTime": {
     "end_time": "2020-11-15T03:50:33.456922Z",
     "start_time": "2020-11-15T03:50:33.453928Z"
    }
   },
   "outputs": [],
   "source": [
    "host = \"http://localhost:8000\""
   ]
  },
  {
   "cell_type": "code",
   "execution_count": 33,
   "metadata": {
    "ExecuteTime": {
     "end_time": "2020-11-15T08:44:58.241609Z",
     "start_time": "2020-11-15T08:44:56.214163Z"
    }
   },
   "outputs": [
    {
     "name": "stdout",
     "output_type": "stream",
     "text": [
      "{'code': 200,\n",
      " 'data': ['B', 'A', 'D', 'C', 'E'],\n",
      " 'isSuccess': True,\n",
      " 'message': None}\n"
     ]
    }
   ],
   "source": [
    "path = \"/closure/inputList\"\n",
    "req_url = host + path\n",
    "data = json.dumps({\n",
    "    \"X\": [\"A\", \"B\"],\n",
    "    \"F\": [{\n",
    "        \"V\": [\"A\", \"B\"],\n",
    "        \"W\": [\"C\"]\n",
    "    },{\n",
    "        \"V\": [\"B\"],\n",
    "        \"W\": [\"D\"]\n",
    "    },{\n",
    "        \"V\": [\"C\"],\n",
    "        \"W\": [\"E\"]\n",
    "    },{\n",
    "        \"V\": [\"E\", \"C\"],\n",
    "        \"W\": [\"B\"]\n",
    "    },{\n",
    "        \"V\": [\"A\", \"C\"],\n",
    "        \"W\": [\"B\"]\n",
    "    }]\n",
    "})\n",
    "ret = requests.post(req_url, data=data)\n",
    "pprint(json.loads(ret.content))"
   ]
  },
  {
   "cell_type": "code",
   "execution_count": 54,
   "metadata": {
    "ExecuteTime": {
     "end_time": "2020-11-15T10:33:47.445013Z",
     "start_time": "2020-11-15T10:33:45.404852Z"
    }
   },
   "outputs": [
    {
     "name": "stdout",
     "output_type": "stream",
     "text": [
      "{'code': 200,\n",
      " 'data': {'F_m1': [{'V': ['A'], 'W': ['C']},\n",
      "                   {'V': ['B'], 'W': ['A']},\n",
      "                   {'V': ['A'], 'W': ['B']},\n",
      "                   {'V': ['C'], 'W': ['A']}],\n",
      "          'F_m2': [{'V': ['B'], 'W': ['C']},\n",
      "                   {'V': ['C'], 'W': ['A']},\n",
      "                   {'V': ['A'], 'W': ['B']}]},\n",
      " 'isSuccess': True,\n",
      " 'message': None}\n"
     ]
    }
   ],
   "source": [
    "path = \"/minimalCover/inputList\"\n",
    "req_url = host + path\n",
    "data = json.dumps({\n",
    "    \"F\": [{\n",
    "        \"V\": [\"A\"],\n",
    "        \"W\": [\"B\"]\n",
    "    },{\n",
    "        \"V\": [\"B\"],\n",
    "        \"W\": [\"A\"]\n",
    "    },{\n",
    "        \"V\": [\"B\"],\n",
    "        \"W\": [\"C\"]\n",
    "    },{\n",
    "        \"V\": [\"A\"],\n",
    "        \"W\": [\"C\"]\n",
    "    },{\n",
    "        \"V\": [\"C\"],\n",
    "        \"W\": [\"A\"]\n",
    "    }]\n",
    "})\n",
    "ret = requests.post(req_url, data=data)\n",
    "pprint(json.loads(ret.content))"
   ]
  },
  {
   "cell_type": "code",
   "execution_count": 6,
   "metadata": {
    "ExecuteTime": {
     "end_time": "2020-11-15T03:52:16.092890Z",
     "start_time": "2020-11-15T03:52:16.084978Z"
    }
   },
   "outputs": [
    {
     "name": "stdout",
     "output_type": "stream",
     "text": [
      "Help on function dumps in module json:\n",
      "\n",
      "dumps(obj, *, skipkeys=False, ensure_ascii=True, check_circular=True, allow_nan=True, cls=None, indent=None, separators=None, default=None, sort_keys=False, **kw)\n",
      "    Serialize ``obj`` to a JSON formatted ``str``.\n",
      "    \n",
      "    If ``skipkeys`` is true then ``dict`` keys that are not basic types\n",
      "    (``str``, ``int``, ``float``, ``bool``, ``None``) will be skipped\n",
      "    instead of raising a ``TypeError``.\n",
      "    \n",
      "    If ``ensure_ascii`` is false, then the return value can contain non-ASCII\n",
      "    characters if they appear in strings contained in ``obj``. Otherwise, all\n",
      "    such characters are escaped in JSON strings.\n",
      "    \n",
      "    If ``check_circular`` is false, then the circular reference check\n",
      "    for container types will be skipped and a circular reference will\n",
      "    result in an ``OverflowError`` (or worse).\n",
      "    \n",
      "    If ``allow_nan`` is false, then it will be a ``ValueError`` to\n",
      "    serialize out of range ``float`` values (``nan``, ``inf``, ``-inf``) in\n",
      "    strict compliance of the JSON specification, instead of using the\n",
      "    JavaScript equivalents (``NaN``, ``Infinity``, ``-Infinity``).\n",
      "    \n",
      "    If ``indent`` is a non-negative integer, then JSON array elements and\n",
      "    object members will be pretty-printed with that indent level. An indent\n",
      "    level of 0 will only insert newlines. ``None`` is the most compact\n",
      "    representation.\n",
      "    \n",
      "    If specified, ``separators`` should be an ``(item_separator, key_separator)``\n",
      "    tuple.  The default is ``(', ', ': ')`` if *indent* is ``None`` and\n",
      "    ``(',', ': ')`` otherwise.  To get the most compact JSON representation,\n",
      "    you should specify ``(',', ':')`` to eliminate whitespace.\n",
      "    \n",
      "    ``default(obj)`` is a function that should return a serializable version\n",
      "    of obj or raise TypeError. The default simply raises TypeError.\n",
      "    \n",
      "    If *sort_keys* is true (default: ``False``), then the output of\n",
      "    dictionaries will be sorted by key.\n",
      "    \n",
      "    To use a custom ``JSONEncoder`` subclass (e.g. one that overrides the\n",
      "    ``.default()`` method to serialize additional types), specify it with\n",
      "    the ``cls`` kwarg; otherwise ``JSONEncoder`` is used.\n",
      "\n"
     ]
    }
   ],
   "source": [
    "help(json.dumps)"
   ]
  },
  {
   "cell_type": "code",
   "execution_count": null,
   "metadata": {},
   "outputs": [],
   "source": []
  }
 ],
 "metadata": {
  "hide_input": false,
  "kernelspec": {
   "display_name": "Python 3",
   "language": "python",
   "name": "python3"
  },
  "language_info": {
   "codemirror_mode": {
    "name": "ipython",
    "version": 3
   },
   "file_extension": ".py",
   "mimetype": "text/x-python",
   "name": "python",
   "nbconvert_exporter": "python",
   "pygments_lexer": "ipython3",
   "version": "3.7.3"
  },
  "toc": {
   "base_numbering": 1,
   "nav_menu": {},
   "number_sections": true,
   "sideBar": true,
   "skip_h1_title": false,
   "title_cell": "Table of Contents",
   "title_sidebar": "Contents",
   "toc_cell": false,
   "toc_position": {},
   "toc_section_display": true,
   "toc_window_display": false
  },
  "varInspector": {
   "cols": {
    "lenName": 16,
    "lenType": 16,
    "lenVar": 40
   },
   "kernels_config": {
    "python": {
     "delete_cmd_postfix": "",
     "delete_cmd_prefix": "del ",
     "library": "var_list.py",
     "varRefreshCmd": "print(var_dic_list())"
    },
    "r": {
     "delete_cmd_postfix": ") ",
     "delete_cmd_prefix": "rm(",
     "library": "var_list.r",
     "varRefreshCmd": "cat(var_dic_list()) "
    }
   },
   "types_to_exclude": [
    "module",
    "function",
    "builtin_function_or_method",
    "instance",
    "_Feature"
   ],
   "window_display": false
  }
 },
 "nbformat": 4,
 "nbformat_minor": 4
}